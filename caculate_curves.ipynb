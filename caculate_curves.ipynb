{
 "cells": [
  {
   "cell_type": "code",
   "execution_count": 85,
   "metadata": {},
   "outputs": [],
   "source": [
    "import re\n",
    "import sys\n",
    "import json\n",
    "import numpy as np\n",
    "from datetime import date\n",
    "import requests\n",
    "import pandas as pd\n",
    "import psycopg2\n",
    "from loguru import logger\n",
    "import traceback"
   ]
  },
  {
   "cell_type": "code",
   "execution_count": 86,
   "metadata": {},
   "outputs": [],
   "source": [
    "curve = pd.read_csv('txposturecurve.csv')"
   ]
  },
  {
   "cell_type": "code",
   "execution_count": 87,
   "metadata": {},
   "outputs": [],
   "source": [
    "test = ['Caso prueba 1','Optimizacion 1']\n",
    "\n",
    "nombre = test[1]"
   ]
  },
  {
   "cell_type": "code",
   "execution_count": 88,
   "metadata": {},
   "outputs": [],
   "source": [
    "reproductoras = pd.read_excel('casos de prueba.xlsx', sheet_name=nombre)"
   ]
  },
  {
   "cell_type": "code",
   "execution_count": 89,
   "metadata": {},
   "outputs": [],
   "source": [
    "reproductoras.set_index('Recepcion calculada', inplace=True)"
   ]
  },
  {
   "cell_type": "code",
   "execution_count": 90,
   "metadata": {},
   "outputs": [
    {
     "data": {
      "text/html": [
       "<div>\n",
       "<style scoped>\n",
       "    .dataframe tbody tr th:only-of-type {\n",
       "        vertical-align: middle;\n",
       "    }\n",
       "\n",
       "    .dataframe tbody tr th {\n",
       "        vertical-align: top;\n",
       "    }\n",
       "\n",
       "    .dataframe thead th {\n",
       "        text-align: right;\n",
       "    }\n",
       "</style>\n",
       "<table border=\"1\" class=\"dataframe\">\n",
       "  <thead>\n",
       "    <tr style=\"text-align: right;\">\n",
       "      <th></th>\n",
       "      <th>Raza</th>\n",
       "      <th>encasetadas</th>\n",
       "    </tr>\n",
       "    <tr>\n",
       "      <th>Recepcion calculada</th>\n",
       "      <th></th>\n",
       "      <th></th>\n",
       "    </tr>\n",
       "  </thead>\n",
       "  <tbody>\n",
       "    <tr>\n",
       "      <th>2017-06-25</th>\n",
       "      <td>ROSS</td>\n",
       "      <td>17835</td>\n",
       "    </tr>\n",
       "    <tr>\n",
       "      <th>2017-07-02</th>\n",
       "      <td>ROSS</td>\n",
       "      <td>40000</td>\n",
       "    </tr>\n",
       "    <tr>\n",
       "      <th>2017-07-30</th>\n",
       "      <td>ROSS</td>\n",
       "      <td>11679</td>\n",
       "    </tr>\n",
       "    <tr>\n",
       "      <th>2017-09-03</th>\n",
       "      <td>ROSS</td>\n",
       "      <td>11368</td>\n",
       "    </tr>\n",
       "    <tr>\n",
       "      <th>2017-11-12</th>\n",
       "      <td>ROSS</td>\n",
       "      <td>10000</td>\n",
       "    </tr>\n",
       "    <tr>\n",
       "      <th>2018-03-04</th>\n",
       "      <td>ROSS</td>\n",
       "      <td>40000</td>\n",
       "    </tr>\n",
       "    <tr>\n",
       "      <th>2018-03-11</th>\n",
       "      <td>ROSS</td>\n",
       "      <td>38625</td>\n",
       "    </tr>\n",
       "    <tr>\n",
       "      <th>2018-03-18</th>\n",
       "      <td>ROSS</td>\n",
       "      <td>10000</td>\n",
       "    </tr>\n",
       "    <tr>\n",
       "      <th>2018-04-08</th>\n",
       "      <td>ROSS</td>\n",
       "      <td>10000</td>\n",
       "    </tr>\n",
       "  </tbody>\n",
       "</table>\n",
       "</div>"
      ],
      "text/plain": [
       "                     Raza  encasetadas\n",
       "Recepcion calculada                   \n",
       "2017-06-25           ROSS        17835\n",
       "2017-07-02           ROSS        40000\n",
       "2017-07-30           ROSS        11679\n",
       "2017-09-03           ROSS        11368\n",
       "2017-11-12           ROSS        10000\n",
       "2018-03-04           ROSS        40000\n",
       "2018-03-11           ROSS        38625\n",
       "2018-03-18           ROSS        10000\n",
       "2018-04-08           ROSS        10000"
      ]
     },
     "execution_count": 90,
     "metadata": {},
     "output_type": "execute_result"
    }
   ],
   "source": [
    "reproductoras"
   ]
  },
  {
   "cell_type": "code",
   "execution_count": 91,
   "metadata": {},
   "outputs": [],
   "source": [
    "date_init = '2017-01-01'\n",
    "date_end = '2020-01-01'"
   ]
  },
  {
   "cell_type": "code",
   "execution_count": 92,
   "metadata": {},
   "outputs": [],
   "source": [
    "posture = np.flip(curve[\"theorical_performance\"])\n",
    "daterange = pd.date_range(start=pd.Timestamp(date_init), end=pd.Timestamp(date_end),freq='D')\n",
    "reproductoras = reproductoras.reindex(daterange, fill_value=0)\n",
    "reproductoras = reproductoras.resample('W').agg({'encasetadas': 'sum'})\n",
    "matriz = np.zeros((len(reproductoras),len(reproductoras)))\n",
    "\n",
    "\n",
    "for i in range(0,len(reproductoras)):\n",
    "    for j in range(i,i + len(posture)):\n",
    "        if (j < len(reproductoras)):\n",
    "            matriz[j,i]=posture[j-i]\n",
    "# np.savetxt(\"matriz.csv\", self.matriz, delimiter=\",\")\n",
    "production = np.dot(\n",
    "    matriz,\n",
    "    reproductoras[\"encasetadas\"]\n",
    ")"
   ]
  },
  {
   "cell_type": "code",
   "execution_count": 93,
   "metadata": {},
   "outputs": [
    {
     "data": {
      "text/plain": [
       "array([     0.  ,      0.  ,      0.  ,      0.  ,      0.  ,      0.  ,\n",
       "            0.  ,      0.  ,      0.  ,      0.  ,      0.  ,      0.  ,\n",
       "            0.  ,      0.  ,      0.  ,      0.  ,      0.  ,      0.  ,\n",
       "            0.  ,      0.  ,      0.  ,      0.  ,      0.  ,      0.  ,\n",
       "            0.  ,   3567.  ,  48663.8 , 171635.85, 276352.3 , 316502.8 ,\n",
       "       332087.05, 359536.07, 384953.44, 391735.82, 394126.12, 394725.5 ,\n",
       "       415177.72, 435680.64, 442962.26, 442300.35, 438020.41, 434421.7 ,\n",
       "       429261.6 , 422780.47, 415847.84, 412425.39, 428083.55, 444355.78,\n",
       "       445757.63, 440438.34, 434577.45, 429786.37, 421771.66, 414445.02,\n",
       "       406824.09, 398826.11, 388309.14, 381946.55, 373761.46, 365249.86,\n",
       "       357390.88, 357605.17, 435284.07, 535322.9 , 550812.89, 615132.97,\n",
       "       637553.7 , 659080.26, 641327.85, 644728.41, 643419.04, 638323.56,\n",
       "       628440.87, 586423.75, 581178.75, 573147.5 , 566071.25, 559540.  ,\n",
       "       551708.75, 542046.25, 532183.75, 524093.75, 514376.25, 475572.5 ,\n",
       "       465996.25, 455647.5 , 447698.75, 440367.5 , 432291.25, 423601.25,\n",
       "       415025.  , 403735.  , 393068.75, 384651.25, 375675.  , 366912.5 ,\n",
       "       357522.5 , 348246.25, 328997.5 , 190551.25,  67100.  ,  35300.  ,\n",
       "        34200.  ,  30900.  ,      0.  ,      0.  ,      0.  ,      0.  ,\n",
       "            0.  ,      0.  ,      0.  ,      0.  ,      0.  ,      0.  ,\n",
       "            0.  ,      0.  ,      0.  ,      0.  ,      0.  ,      0.  ,\n",
       "            0.  ,      0.  ,      0.  ,      0.  ,      0.  ,      0.  ,\n",
       "            0.  ,      0.  ,      0.  ,      0.  ,      0.  ,      0.  ,\n",
       "            0.  ,      0.  ,      0.  ,      0.  ,      0.  ,      0.  ,\n",
       "            0.  ,      0.  ,      0.  ,      0.  ,      0.  ,      0.  ,\n",
       "            0.  ,      0.  ,      0.  ,      0.  ,      0.  ,      0.  ,\n",
       "            0.  ,      0.  ,      0.  ,      0.  ,      0.  ,      0.  ,\n",
       "            0.  ,      0.  ])"
      ]
     },
     "execution_count": 93,
     "metadata": {},
     "output_type": "execute_result"
    }
   ],
   "source": [
    "production"
   ]
  },
  {
   "cell_type": "code",
   "execution_count": 94,
   "metadata": {},
   "outputs": [
    {
     "data": {
      "text/html": [
       "<div>\n",
       "<style scoped>\n",
       "    .dataframe tbody tr th:only-of-type {\n",
       "        vertical-align: middle;\n",
       "    }\n",
       "\n",
       "    .dataframe tbody tr th {\n",
       "        vertical-align: top;\n",
       "    }\n",
       "\n",
       "    .dataframe thead th {\n",
       "        text-align: right;\n",
       "    }\n",
       "</style>\n",
       "<table border=\"1\" class=\"dataframe\">\n",
       "  <thead>\n",
       "    <tr style=\"text-align: right;\">\n",
       "      <th></th>\n",
       "      <th>encasetadas</th>\n",
       "    </tr>\n",
       "  </thead>\n",
       "  <tbody>\n",
       "    <tr>\n",
       "      <th>2017-06-25</th>\n",
       "      <td>17835</td>\n",
       "    </tr>\n",
       "    <tr>\n",
       "      <th>2017-07-02</th>\n",
       "      <td>40000</td>\n",
       "    </tr>\n",
       "    <tr>\n",
       "      <th>2017-07-30</th>\n",
       "      <td>11679</td>\n",
       "    </tr>\n",
       "    <tr>\n",
       "      <th>2017-09-03</th>\n",
       "      <td>11368</td>\n",
       "    </tr>\n",
       "    <tr>\n",
       "      <th>2017-11-12</th>\n",
       "      <td>10000</td>\n",
       "    </tr>\n",
       "    <tr>\n",
       "      <th>2018-03-04</th>\n",
       "      <td>40000</td>\n",
       "    </tr>\n",
       "    <tr>\n",
       "      <th>2018-03-11</th>\n",
       "      <td>38625</td>\n",
       "    </tr>\n",
       "    <tr>\n",
       "      <th>2018-03-18</th>\n",
       "      <td>10000</td>\n",
       "    </tr>\n",
       "    <tr>\n",
       "      <th>2018-04-08</th>\n",
       "      <td>10000</td>\n",
       "    </tr>\n",
       "  </tbody>\n",
       "</table>\n",
       "</div>"
      ],
      "text/plain": [
       "            encasetadas\n",
       "2017-06-25        17835\n",
       "2017-07-02        40000\n",
       "2017-07-30        11679\n",
       "2017-09-03        11368\n",
       "2017-11-12        10000\n",
       "2018-03-04        40000\n",
       "2018-03-11        38625\n",
       "2018-03-18        10000\n",
       "2018-04-08        10000"
      ]
     },
     "execution_count": 94,
     "metadata": {},
     "output_type": "execute_result"
    }
   ],
   "source": [
    "reproductoras.loc[reproductoras[\"encasetadas\"] > 0]"
   ]
  },
  {
   "cell_type": "code",
   "execution_count": 95,
   "metadata": {},
   "outputs": [
    {
     "data": {
      "text/plain": [
       "array([[0.2 , 0.  , 0.  , ..., 0.  , 0.  , 0.  ],\n",
       "       [2.28, 0.2 , 0.  , ..., 0.  , 0.  , 0.  ],\n",
       "       [4.51, 2.28, 0.2 , ..., 0.  , 0.  , 0.  ],\n",
       "       ...,\n",
       "       [0.  , 0.  , 0.  , ..., 0.2 , 0.  , 0.  ],\n",
       "       [0.  , 0.  , 0.  , ..., 2.28, 0.2 , 0.  ],\n",
       "       [0.  , 0.  , 0.  , ..., 4.51, 2.28, 0.2 ]])"
      ]
     },
     "execution_count": 95,
     "metadata": {},
     "output_type": "execute_result"
    }
   ],
   "source": [
    "matriz"
   ]
  },
  {
   "cell_type": "code",
   "execution_count": 96,
   "metadata": {},
   "outputs": [
    {
     "data": {
      "text/html": [
       "<div>\n",
       "<style scoped>\n",
       "    .dataframe tbody tr th:only-of-type {\n",
       "        vertical-align: middle;\n",
       "    }\n",
       "\n",
       "    .dataframe tbody tr th {\n",
       "        vertical-align: top;\n",
       "    }\n",
       "\n",
       "    .dataframe thead th {\n",
       "        text-align: right;\n",
       "    }\n",
       "</style>\n",
       "<table border=\"1\" class=\"dataframe\">\n",
       "  <thead>\n",
       "    <tr style=\"text-align: right;\">\n",
       "      <th></th>\n",
       "      <th>encasetadas</th>\n",
       "    </tr>\n",
       "  </thead>\n",
       "  <tbody>\n",
       "    <tr>\n",
       "      <th>2017-06-25</th>\n",
       "      <td>17835</td>\n",
       "    </tr>\n",
       "    <tr>\n",
       "      <th>2017-07-02</th>\n",
       "      <td>40000</td>\n",
       "    </tr>\n",
       "    <tr>\n",
       "      <th>2017-07-30</th>\n",
       "      <td>11679</td>\n",
       "    </tr>\n",
       "    <tr>\n",
       "      <th>2017-09-03</th>\n",
       "      <td>11368</td>\n",
       "    </tr>\n",
       "    <tr>\n",
       "      <th>2017-11-12</th>\n",
       "      <td>10000</td>\n",
       "    </tr>\n",
       "    <tr>\n",
       "      <th>2018-03-04</th>\n",
       "      <td>40000</td>\n",
       "    </tr>\n",
       "    <tr>\n",
       "      <th>2018-03-11</th>\n",
       "      <td>38625</td>\n",
       "    </tr>\n",
       "    <tr>\n",
       "      <th>2018-03-18</th>\n",
       "      <td>10000</td>\n",
       "    </tr>\n",
       "    <tr>\n",
       "      <th>2018-04-08</th>\n",
       "      <td>10000</td>\n",
       "    </tr>\n",
       "  </tbody>\n",
       "</table>\n",
       "</div>"
      ],
      "text/plain": [
       "            encasetadas\n",
       "2017-06-25        17835\n",
       "2017-07-02        40000\n",
       "2017-07-30        11679\n",
       "2017-09-03        11368\n",
       "2017-11-12        10000\n",
       "2018-03-04        40000\n",
       "2018-03-11        38625\n",
       "2018-03-18        10000\n",
       "2018-04-08        10000"
      ]
     },
     "execution_count": 96,
     "metadata": {},
     "output_type": "execute_result"
    }
   ],
   "source": [
    "reproductoras.loc[reproductoras[\"encasetadas\"] > 0]"
   ]
  },
  {
   "cell_type": "code",
   "execution_count": 97,
   "metadata": {},
   "outputs": [
    {
     "data": {
      "text/plain": [
       "2017-01-01    0\n",
       "2017-01-08    0\n",
       "2017-01-15    0\n",
       "2017-01-22    0\n",
       "2017-01-29    0\n",
       "             ..\n",
       "2019-12-08    0\n",
       "2019-12-15    0\n",
       "2019-12-22    0\n",
       "2019-12-29    0\n",
       "2020-01-05    0\n",
       "Freq: W-SUN, Name: encasetadas, Length: 158, dtype: int64"
      ]
     },
     "execution_count": 97,
     "metadata": {},
     "output_type": "execute_result"
    }
   ],
   "source": [
    "reproductoras[\"encasetadas\"]"
   ]
  },
  {
   "cell_type": "code",
   "execution_count": 98,
   "metadata": {},
   "outputs": [
    {
     "data": {
      "text/plain": [
       "(158,)"
      ]
     },
     "execution_count": 98,
     "metadata": {},
     "output_type": "execute_result"
    }
   ],
   "source": [
    "reproductoras[\"encasetadas\"].shape"
   ]
  },
  {
   "cell_type": "code",
   "execution_count": 99,
   "metadata": {},
   "outputs": [],
   "source": [
    "urlGoalsResults = 'http://127.0.0.1:3009/scenario_param/getParameterGoal'\n",
    "res = requests.post(urlGoalsResults, \n",
    "json={\n",
    "    \"scenario_id\": 4,\n",
    "    \"filter_breed\" : [2],\n",
    "    \"filter_stage\" : []\n",
    "    }\n",
    ")\n",
    "data_to_erp = pd.DataFrame(res.json()[\"data_to_erp\"]).dropna()\n",
    "data_to_erp = data_to_erp[[\"fecha\",\"value\",\"breed_id\",\"product_id\"]]\n",
    "data_to_erp[\"breed_id\"] = data_to_erp[\"breed_id\"].astype(int)\n",
    "data_to_erp[\"product_id\"] = data_to_erp[\"product_id\"].astype(int)\n",
    "data_to_erp[\"fecha\"]  = pd.to_datetime(data_to_erp.fecha, dayfirst=True)\n",
    "data_to_erp.rename(columns={\"value\":\"demand\"},inplace=True)\n",
    "data_to_erp.to_csv(\"data_to_erp.csv\")\n",
    "data_to_erp = data_to_erp.loc[(data_to_erp.breed_id == 2) & (data_to_erp.product_id == 2)]\n",
    "data_to_erp = data_to_erp.drop_duplicates(subset=[\"fecha\"], keep=\"last\")\n",
    "data_to_erp.set_index(\"fecha\", inplace=True)\n",
    "daterange = pd.date_range(start=pd.Timestamp(date_init), end=pd.Timestamp(date_end),freq='D')\n",
    "data_to_erp = data_to_erp.reindex(daterange, fill_value=0)\n",
    "data_to_erp = data_to_erp.resample('W').agg({'demand': 'sum'})\n"
   ]
  },
  {
   "cell_type": "code",
   "execution_count": 100,
   "metadata": {},
   "outputs": [
    {
     "data": {
      "text/html": [
       "<div>\n",
       "<style scoped>\n",
       "    .dataframe tbody tr th:only-of-type {\n",
       "        vertical-align: middle;\n",
       "    }\n",
       "\n",
       "    .dataframe tbody tr th {\n",
       "        vertical-align: top;\n",
       "    }\n",
       "\n",
       "    .dataframe thead th {\n",
       "        text-align: right;\n",
       "    }\n",
       "</style>\n",
       "<table border=\"1\" class=\"dataframe\">\n",
       "  <thead>\n",
       "    <tr style=\"text-align: right;\">\n",
       "      <th></th>\n",
       "      <th>demand</th>\n",
       "    </tr>\n",
       "  </thead>\n",
       "  <tbody>\n",
       "    <tr>\n",
       "      <th>2017-01-01</th>\n",
       "      <td>0</td>\n",
       "    </tr>\n",
       "    <tr>\n",
       "      <th>2017-01-08</th>\n",
       "      <td>0</td>\n",
       "    </tr>\n",
       "    <tr>\n",
       "      <th>2017-01-15</th>\n",
       "      <td>0</td>\n",
       "    </tr>\n",
       "    <tr>\n",
       "      <th>2017-01-22</th>\n",
       "      <td>0</td>\n",
       "    </tr>\n",
       "    <tr>\n",
       "      <th>2017-01-29</th>\n",
       "      <td>0</td>\n",
       "    </tr>\n",
       "    <tr>\n",
       "      <th>...</th>\n",
       "      <td>...</td>\n",
       "    </tr>\n",
       "    <tr>\n",
       "      <th>2019-12-08</th>\n",
       "      <td>0</td>\n",
       "    </tr>\n",
       "    <tr>\n",
       "      <th>2019-12-15</th>\n",
       "      <td>0</td>\n",
       "    </tr>\n",
       "    <tr>\n",
       "      <th>2019-12-22</th>\n",
       "      <td>0</td>\n",
       "    </tr>\n",
       "    <tr>\n",
       "      <th>2019-12-29</th>\n",
       "      <td>0</td>\n",
       "    </tr>\n",
       "    <tr>\n",
       "      <th>2020-01-05</th>\n",
       "      <td>0</td>\n",
       "    </tr>\n",
       "  </tbody>\n",
       "</table>\n",
       "<p>158 rows × 1 columns</p>\n",
       "</div>"
      ],
      "text/plain": [
       "           demand\n",
       "2017-01-01      0\n",
       "2017-01-08      0\n",
       "2017-01-15      0\n",
       "2017-01-22      0\n",
       "2017-01-29      0\n",
       "...           ...\n",
       "2019-12-08      0\n",
       "2019-12-15      0\n",
       "2019-12-22      0\n",
       "2019-12-29      0\n",
       "2020-01-05      0\n",
       "\n",
       "[158 rows x 1 columns]"
      ]
     },
     "execution_count": 100,
     "metadata": {},
     "output_type": "execute_result"
    }
   ],
   "source": [
    "data_to_erp"
   ]
  },
  {
   "cell_type": "code",
   "execution_count": 101,
   "metadata": {},
   "outputs": [],
   "source": [
    "data_to_erp[\"production\"] = production"
   ]
  },
  {
   "cell_type": "code",
   "execution_count": 102,
   "metadata": {},
   "outputs": [],
   "source": [
    "dif = []\n",
    "difnro = []\n",
    "dif = production.copy()\n",
    "demanda = data_to_erp[\"demand\"].copy()\n",
    "\n",
    "totalresidue = production - demanda\n",
    "residue = np.roll(totalresidue, 1)\n",
    "residue[0] = 0\n",
    "residue[residue < 0] = 0\n",
    "totalresidue[totalresidue < 0] = 0\n",
    "production = production + residue - totalresidue\n",
    "difnro = production - demanda\n",
    "dif[demanda!=0] = (((production[demanda!=0]-demanda[demanda!=0])/demanda[demanda!=0]))*100"
   ]
  },
  {
   "cell_type": "code",
   "execution_count": 103,
   "metadata": {},
   "outputs": [
    {
     "data": {
      "text/plain": [
       "array([0, 0.0, 0.0, 0.0, 0.0, 0.0, 0.0, 0.0, 0.0, 0.0, 0.0, 0.0, 0.0, 0.0,\n",
       "       0.0, 0.0, 0.0, 0.0, 0.0, 0.0, 0.0, 0.0, 0.0, 0.0, 0.0, 0.0, 3567.0,\n",
       "       48663.799999999996, 171635.84999999998, 276352.3, 316502.8,\n",
       "       332087.05, 359536.07, 384953.44, 391735.82, 394126.12, 394725.5,\n",
       "       415177.72, 435680.64, 442962.25999999995, 442300.35, 438020.41,\n",
       "       434421.69999999995, 429261.6, 422780.47, 353972.83999999997, 0, 0,\n",
       "       11230.780000000028, 12632.630000000005, 2658.3399999999674, 0, 0,\n",
       "       0, 0, 0, 0, 0, 0, 0, 0, 0, 0, 0, 55045.89999999991,\n",
       "       70535.89000000001, 134855.96999999997, 147516.69999999995,\n",
       "       162233.26, 144684.84999999986, 148085.41000000003,\n",
       "       152540.04000000004, 161652.56000000006, 151264.87, 109247.75,\n",
       "       104002.75, 80371.5, 71402.25, 64871.0, 57039.75, 40612.25,\n",
       "       21729.75, 13639.75, 3922.25, 0, 0, 0, 0, 0, 0, 0, 0, 0, 0, 0, 0, 0,\n",
       "       0, 326382.25, 307745.5, 169299.25, 45848.0, 14048.0, 28128.0,\n",
       "       30900.0, 0.0, 0.0, 0.0, 0.0, 0.0, 0.0, 0.0, 0.0, 0.0, 0.0, 0.0,\n",
       "       0.0, 0.0, 0.0, 0.0, 0.0, 0.0, 0.0, 0.0, 0.0, 0.0, 0.0, 0.0, 0.0,\n",
       "       0.0, 0.0, 0.0, 0.0, 0.0, 0.0, 0.0, 0.0, 0.0, 0.0, 0.0, 0.0, 0.0,\n",
       "       0.0, 0.0, 0.0, 0.0, 0.0, 0.0, 0.0, 0.0, 0.0, 0.0, 0.0, 0.0, 0.0,\n",
       "       0.0, 0.0, 0.0], dtype=object)"
      ]
     },
     "execution_count": 103,
     "metadata": {},
     "output_type": "execute_result"
    }
   ],
   "source": [
    "residue"
   ]
  },
  {
   "cell_type": "code",
   "execution_count": 104,
   "metadata": {},
   "outputs": [],
   "source": [
    "result = pd.DataFrame(columns=[\"dates\",\"diferenceNro\",\"difference\",\"production\",\"demand\",\"lot_size\",\"isPrevios\"])\n",
    "result[\"dates\"] = data_to_erp.index\n",
    "result[\"diferenceNro\"] = difnro.tolist()\n",
    "result[\"difference\"] = dif.tolist()\n",
    "result[\"production\"] = production.tolist()\n",
    "result[\"demand\"] = demanda.tolist()\n",
    "result[\"lot_size\"] = reproductoras[\"encasetadas\"].astype(int).tolist()\n"
   ]
  },
  {
   "cell_type": "code",
   "execution_count": 105,
   "metadata": {},
   "outputs": [
    {
     "data": {
      "text/plain": [
       "2017-01-01    0.0\n",
       "2017-01-08    0.0\n",
       "2017-01-15    0.0\n",
       "2017-01-22    0.0\n",
       "2017-01-29    0.0\n",
       "             ... \n",
       "2019-12-08    0.0\n",
       "2019-12-15    0.0\n",
       "2019-12-22    0.0\n",
       "2019-12-29    0.0\n",
       "2020-01-05    0.0\n",
       "Freq: W-SUN, Name: demand, Length: 158, dtype: object"
      ]
     },
     "execution_count": 105,
     "metadata": {},
     "output_type": "execute_result"
    }
   ],
   "source": [
    "difnro"
   ]
  },
  {
   "cell_type": "code",
   "execution_count": 106,
   "metadata": {},
   "outputs": [
    {
     "data": {
      "text/html": [
       "<div>\n",
       "<style scoped>\n",
       "    .dataframe tbody tr th:only-of-type {\n",
       "        vertical-align: middle;\n",
       "    }\n",
       "\n",
       "    .dataframe tbody tr th {\n",
       "        vertical-align: top;\n",
       "    }\n",
       "\n",
       "    .dataframe thead th {\n",
       "        text-align: right;\n",
       "    }\n",
       "</style>\n",
       "<table border=\"1\" class=\"dataframe\">\n",
       "  <thead>\n",
       "    <tr style=\"text-align: right;\">\n",
       "      <th></th>\n",
       "      <th>dates</th>\n",
       "      <th>diferenceNro</th>\n",
       "      <th>difference</th>\n",
       "      <th>production</th>\n",
       "      <th>demand</th>\n",
       "      <th>lot_size</th>\n",
       "      <th>isPrevios</th>\n",
       "    </tr>\n",
       "  </thead>\n",
       "  <tbody>\n",
       "    <tr>\n",
       "      <th>0</th>\n",
       "      <td>2017-01-01</td>\n",
       "      <td>0.0</td>\n",
       "      <td>0.0</td>\n",
       "      <td>0.0</td>\n",
       "      <td>0</td>\n",
       "      <td>0</td>\n",
       "      <td>NaN</td>\n",
       "    </tr>\n",
       "    <tr>\n",
       "      <th>1</th>\n",
       "      <td>2017-01-08</td>\n",
       "      <td>0.0</td>\n",
       "      <td>0.0</td>\n",
       "      <td>0.0</td>\n",
       "      <td>0</td>\n",
       "      <td>0</td>\n",
       "      <td>NaN</td>\n",
       "    </tr>\n",
       "    <tr>\n",
       "      <th>2</th>\n",
       "      <td>2017-01-15</td>\n",
       "      <td>0.0</td>\n",
       "      <td>0.0</td>\n",
       "      <td>0.0</td>\n",
       "      <td>0</td>\n",
       "      <td>0</td>\n",
       "      <td>NaN</td>\n",
       "    </tr>\n",
       "    <tr>\n",
       "      <th>3</th>\n",
       "      <td>2017-01-22</td>\n",
       "      <td>0.0</td>\n",
       "      <td>0.0</td>\n",
       "      <td>0.0</td>\n",
       "      <td>0</td>\n",
       "      <td>0</td>\n",
       "      <td>NaN</td>\n",
       "    </tr>\n",
       "    <tr>\n",
       "      <th>4</th>\n",
       "      <td>2017-01-29</td>\n",
       "      <td>0.0</td>\n",
       "      <td>0.0</td>\n",
       "      <td>0.0</td>\n",
       "      <td>0</td>\n",
       "      <td>0</td>\n",
       "      <td>NaN</td>\n",
       "    </tr>\n",
       "    <tr>\n",
       "      <th>...</th>\n",
       "      <td>...</td>\n",
       "      <td>...</td>\n",
       "      <td>...</td>\n",
       "      <td>...</td>\n",
       "      <td>...</td>\n",
       "      <td>...</td>\n",
       "      <td>...</td>\n",
       "    </tr>\n",
       "    <tr>\n",
       "      <th>153</th>\n",
       "      <td>2019-12-08</td>\n",
       "      <td>0.0</td>\n",
       "      <td>0.0</td>\n",
       "      <td>0.0</td>\n",
       "      <td>0</td>\n",
       "      <td>0</td>\n",
       "      <td>NaN</td>\n",
       "    </tr>\n",
       "    <tr>\n",
       "      <th>154</th>\n",
       "      <td>2019-12-15</td>\n",
       "      <td>0.0</td>\n",
       "      <td>0.0</td>\n",
       "      <td>0.0</td>\n",
       "      <td>0</td>\n",
       "      <td>0</td>\n",
       "      <td>NaN</td>\n",
       "    </tr>\n",
       "    <tr>\n",
       "      <th>155</th>\n",
       "      <td>2019-12-22</td>\n",
       "      <td>0.0</td>\n",
       "      <td>0.0</td>\n",
       "      <td>0.0</td>\n",
       "      <td>0</td>\n",
       "      <td>0</td>\n",
       "      <td>NaN</td>\n",
       "    </tr>\n",
       "    <tr>\n",
       "      <th>156</th>\n",
       "      <td>2019-12-29</td>\n",
       "      <td>0.0</td>\n",
       "      <td>0.0</td>\n",
       "      <td>0.0</td>\n",
       "      <td>0</td>\n",
       "      <td>0</td>\n",
       "      <td>NaN</td>\n",
       "    </tr>\n",
       "    <tr>\n",
       "      <th>157</th>\n",
       "      <td>2020-01-05</td>\n",
       "      <td>0.0</td>\n",
       "      <td>0.0</td>\n",
       "      <td>0.0</td>\n",
       "      <td>0</td>\n",
       "      <td>0</td>\n",
       "      <td>NaN</td>\n",
       "    </tr>\n",
       "  </tbody>\n",
       "</table>\n",
       "<p>158 rows × 7 columns</p>\n",
       "</div>"
      ],
      "text/plain": [
       "         dates  diferenceNro  difference  production  demand  lot_size  \\\n",
       "0   2017-01-01           0.0         0.0         0.0       0         0   \n",
       "1   2017-01-08           0.0         0.0         0.0       0         0   \n",
       "2   2017-01-15           0.0         0.0         0.0       0         0   \n",
       "3   2017-01-22           0.0         0.0         0.0       0         0   \n",
       "4   2017-01-29           0.0         0.0         0.0       0         0   \n",
       "..         ...           ...         ...         ...     ...       ...   \n",
       "153 2019-12-08           0.0         0.0         0.0       0         0   \n",
       "154 2019-12-15           0.0         0.0         0.0       0         0   \n",
       "155 2019-12-22           0.0         0.0         0.0       0         0   \n",
       "156 2019-12-29           0.0         0.0         0.0       0         0   \n",
       "157 2020-01-05           0.0         0.0         0.0       0         0   \n",
       "\n",
       "    isPrevios  \n",
       "0         NaN  \n",
       "1         NaN  \n",
       "2         NaN  \n",
       "3         NaN  \n",
       "4         NaN  \n",
       "..        ...  \n",
       "153       NaN  \n",
       "154       NaN  \n",
       "155       NaN  \n",
       "156       NaN  \n",
       "157       NaN  \n",
       "\n",
       "[158 rows x 7 columns]"
      ]
     },
     "execution_count": 106,
     "metadata": {},
     "output_type": "execute_result"
    }
   ],
   "source": [
    "result"
   ]
  },
  {
   "cell_type": "code",
   "execution_count": 107,
   "metadata": {},
   "outputs": [],
   "source": [
    "result.to_csv(f\"\"\"test result {nombre}.csv\"\"\")"
   ]
  },
  {
   "cell_type": "code",
   "execution_count": 108,
   "metadata": {},
   "outputs": [
    {
     "data": {
      "text/plain": [
       "<matplotlib.axes._subplots.AxesSubplot at 0x24e8ea3eeb0>"
      ]
     },
     "execution_count": 108,
     "metadata": {},
     "output_type": "execute_result"
    },
    {
     "data": {
      "image/png": "[encoded data removed]",
      "text/plain": [
       "<Figure size 432x288 with 1 Axes>"
      ]
     },
     "metadata": {
      "needs_background": "light"
     },
     "output_type": "display_data"
    }
   ],
   "source": [
    "#plot the curve x and y curves\n",
    "import matplotlib.pyplot as plt\n",
    "data_to_erp.to_csv(\"data_to_erp.csv\")\n",
    "data_to_erp[[\"demand\",\"production\"]].plot()\n",
    "\n"
   ]
  },
  {
   "cell_type": "code",
   "execution_count": 109,
   "metadata": {},
   "outputs": [
    {
     "data": {
      "text/plain": [
       "DatetimeIndex(['2017-01-01', '2017-01-02', '2017-01-03', '2017-01-04',\n",
       "               '2017-01-05', '2017-01-06', '2017-01-07', '2017-01-08',\n",
       "               '2017-01-09', '2017-01-10',\n",
       "               ...\n",
       "               '2019-12-23', '2019-12-24', '2019-12-25', '2019-12-26',\n",
       "               '2019-12-27', '2019-12-28', '2019-12-29', '2019-12-30',\n",
       "               '2019-12-31', '2020-01-01'],\n",
       "              dtype='datetime64[ns]', length=1096, freq='D')"
      ]
     },
     "execution_count": 109,
     "metadata": {},
     "output_type": "execute_result"
    }
   ],
   "source": [
    "daterange"
   ]
  },
  {
   "cell_type": "code",
   "execution_count": null,
   "metadata": {},
   "outputs": [],
   "source": []
  }
 ],
 "metadata": {
  "kernelspec": {
   "display_name": "Python 3.8.10 64-bit",
   "language": "python",
   "name": "python3"
  },
  "language_info": {
   "codemirror_mode": {
    "name": "ipython",
    "version": 3
   },
   "file_extension": ".py",
   "mimetype": "text/x-python",
   "name": "python",
   "nbconvert_exporter": "python",
   "pygments_lexer": "ipython3",
   "version": "3.8.10 (tags/v3.8.10:3d8993a, May  3 2021, 11:48:03) [MSC v.1928 64 bit (AMD64)]"
  },
  "orig_nbformat": 4,
  "vscode": {
   "interpreter": {
    "hash": "570feb405e2e27c949193ac68f46852414290d515b0ba6e5d90d076ed2284471"
   }
  }
 },
 "nbformat": 4,
 "nbformat_minor": 2
}
